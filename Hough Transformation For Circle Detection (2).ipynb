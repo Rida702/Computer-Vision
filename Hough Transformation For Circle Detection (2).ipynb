{
 "cells": [
  {
   "cell_type": "code",
   "execution_count": null,
   "metadata": {},
   "outputs": [],
   "source": [
    "import numpy as np\n",
    "import matplotlib.pyplot as plt\n",
    "import cv2\n",
    "import math"
   ]
  },
  {
   "cell_type": "code",
   "execution_count": null,
   "metadata": {},
   "outputs": [],
   "source": [
    "img1 = cv2.imread('planets-mars-full.jpg')"
   ]
  },
  {
   "cell_type": "code",
   "execution_count": null,
   "metadata": {},
   "outputs": [],
   "source": [
    "#Step 1:-\n",
    "#    Find Edge Map using built in canny edge detector function\n",
    "#    In this function, first parameter is input image, second is Low threshold and third is high threshold\n",
    "edge_map = cv2.Canny(img1,100,200) "
   ]
  },
  {
   "cell_type": "code",
   "execution_count": null,
   "metadata": {},
   "outputs": [],
   "source": [
    "# Showing edge map\n",
    "plt.figure(dpi = 160)\n",
    "\n",
    "plt.subplot(2, 2, 1)\n",
    "plt.imshow(edge_map , cmap='gray')\n",
    "plt.title('Original Image')\n",
    "plt.axis('on')"
   ]
  },
  {
   "cell_type": "code",
   "execution_count": null,
   "metadata": {
    "scrolled": true
   },
   "outputs": [],
   "source": [
    "#Step 2:-\n",
    "#   Making hough space for circle with parameters (a , b , r)\n",
    "#   Get image dimensions\n",
    "#   y for rows and x for columns \n",
    "Ny = int(img1.shape[0])\n",
    "Nx = int(img1.shape[1])\n",
    "#Max diatance is diagonal one \n",
    "maxdist = int(np.round(np.sqrt(Nx**2 + Ny ** 2)))\n",
    "maxdist"
   ]
  },
  {
   "cell_type": "code",
   "execution_count": null,
   "metadata": {},
   "outputs": [],
   "source": [
    "#making accumulator array\n",
    "accumulator_3d = np.zeros((( Nx , Ny , 2*maxdist)))"
   ]
  },
  {
   "cell_type": "code",
   "execution_count": null,
   "metadata": {},
   "outputs": [],
   "source": [
    "#print(accumulator_3d)"
   ]
  },
  {
   "cell_type": "code",
   "execution_count": null,
   "metadata": {},
   "outputs": [],
   "source": []
  },
  {
   "cell_type": "code",
   "execution_count": null,
   "metadata": {},
   "outputs": [],
   "source": [
    "I_x = cv2.Sobel(img1, cv2.CV_64F, 1, 0, ksize=3)\n",
    "I_y = cv2.Sobel(img1, cv2.CV_64F, 0, 1, ksize=3)\n",
    "\n",
    "# Compute the gradient magnitude and angle\n",
    "magnitude, angle_1 = cv2.cartToPolar(I_x, I_y, angleInDegrees=True)"
   ]
  },
  {
   "cell_type": "code",
   "execution_count": null,
   "metadata": {},
   "outputs": [],
   "source": [
    "for x in range(Nx):\n",
    "    for y in range(Ny):\n",
    "        for r in range(maxdist):\n",
    "            print(x)\n",
    "            print(y)\n",
    "            print(r)\n",
    "            a = int(x - r * np.cos(angle_1[x][y])[0])\n",
    "            b = int(y - r * np.sin(angle_1[x][y])[0])\n",
    "            if a >= 0 and a < Nx and b >= 0 and b < Ny:\n",
    "                accumulator_3d[a][b][r] += 1"
   ]
  },
  {
   "cell_type": "code",
   "execution_count": null,
   "metadata": {},
   "outputs": [],
   "source": []
  },
  {
   "cell_type": "code",
   "execution_count": null,
   "metadata": {},
   "outputs": [],
   "source": []
  }
 ],
 "metadata": {
  "kernelspec": {
   "display_name": "Python 3 (ipykernel)",
   "language": "python",
   "name": "python3"
  },
  "language_info": {
   "codemirror_mode": {
    "name": "ipython",
    "version": 3
   },
   "file_extension": ".py",
   "mimetype": "text/x-python",
   "name": "python",
   "nbconvert_exporter": "python",
   "pygments_lexer": "ipython3",
   "version": "3.9.7"
  }
 },
 "nbformat": 4,
 "nbformat_minor": 4
}
